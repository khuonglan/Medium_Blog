{
 "cells": [
  {
   "cell_type": "code",
   "execution_count": 1,
   "id": "17ba4b4e-a0c3-48a0-9c27-6ed757305afe",
   "metadata": {},
   "outputs": [],
   "source": [
    "import pandas as pd\n",
    "import numpy as np\n",
    "import matplotlib.pyplot as plt\n",
    "import yfinance as yf\n",
    "from tabulate import tabulate\n",
    "%config InlineBackEnd.figure_format='retina'"
   ]
  },
  {
   "cell_type": "code",
   "execution_count": 2,
   "id": "deff4947-4419-4b6c-a998-b235d9b124e0",
   "metadata": {},
   "outputs": [
    {
     "name": "stdout",
     "output_type": "stream",
     "text": [
      "[*********************100%***********************]  1 of 1 completed\n"
     ]
    },
    {
     "data": {
      "text/html": [
       "<div>\n",
       "<style scoped>\n",
       "    .dataframe tbody tr th:only-of-type {\n",
       "        vertical-align: middle;\n",
       "    }\n",
       "\n",
       "    .dataframe tbody tr th {\n",
       "        vertical-align: top;\n",
       "    }\n",
       "\n",
       "    .dataframe thead th {\n",
       "        text-align: right;\n",
       "    }\n",
       "</style>\n",
       "<table border=\"1\" class=\"dataframe\">\n",
       "  <thead>\n",
       "    <tr style=\"text-align: right;\">\n",
       "      <th></th>\n",
       "      <th>Open</th>\n",
       "      <th>High</th>\n",
       "      <th>Low</th>\n",
       "      <th>Close</th>\n",
       "      <th>Adj Close</th>\n",
       "      <th>Volume</th>\n",
       "    </tr>\n",
       "    <tr>\n",
       "      <th>Date</th>\n",
       "      <th></th>\n",
       "      <th></th>\n",
       "      <th></th>\n",
       "      <th></th>\n",
       "      <th></th>\n",
       "      <th></th>\n",
       "    </tr>\n",
       "  </thead>\n",
       "  <tbody>\n",
       "    <tr>\n",
       "      <th>2015-12-31</th>\n",
       "      <td>22.170000</td>\n",
       "      <td>23.280001</td>\n",
       "      <td>22.150000</td>\n",
       "      <td>23.139999</td>\n",
       "      <td>23.139999</td>\n",
       "      <td>19479400</td>\n",
       "    </tr>\n",
       "    <tr>\n",
       "      <th>2016-01-04</th>\n",
       "      <td>22.639999</td>\n",
       "      <td>22.840000</td>\n",
       "      <td>22.110001</td>\n",
       "      <td>22.559999</td>\n",
       "      <td>22.559999</td>\n",
       "      <td>15325000</td>\n",
       "    </tr>\n",
       "    <tr>\n",
       "      <th>2016-01-05</th>\n",
       "      <td>22.790001</td>\n",
       "      <td>23.000000</td>\n",
       "      <td>21.850000</td>\n",
       "      <td>21.920000</td>\n",
       "      <td>21.920000</td>\n",
       "      <td>17077700</td>\n",
       "    </tr>\n",
       "    <tr>\n",
       "      <th>2016-01-06</th>\n",
       "      <td>21.620001</td>\n",
       "      <td>22.180000</td>\n",
       "      <td>21.180000</td>\n",
       "      <td>21.389999</td>\n",
       "      <td>21.389999</td>\n",
       "      <td>14033600</td>\n",
       "    </tr>\n",
       "    <tr>\n",
       "      <th>2016-01-07</th>\n",
       "      <td>21.000000</td>\n",
       "      <td>21.480000</td>\n",
       "      <td>20.200001</td>\n",
       "      <td>20.260000</td>\n",
       "      <td>20.260000</td>\n",
       "      <td>20759800</td>\n",
       "    </tr>\n",
       "  </tbody>\n",
       "</table>\n",
       "</div>"
      ],
      "text/plain": [
       "                 Open       High        Low      Close  Adj Close    Volume\n",
       "Date                                                                       \n",
       "2015-12-31  22.170000  23.280001  22.150000  23.139999  23.139999  19479400\n",
       "2016-01-04  22.639999  22.840000  22.110001  22.559999  22.559999  15325000\n",
       "2016-01-05  22.790001  23.000000  21.850000  21.920000  21.920000  17077700\n",
       "2016-01-06  21.620001  22.180000  21.180000  21.389999  21.389999  14033600\n",
       "2016-01-07  21.000000  21.480000  20.200001  20.260000  20.260000  20759800"
      ]
     },
     "execution_count": 2,
     "metadata": {},
     "output_type": "execute_result"
    }
   ],
   "source": [
    "ticker = 'twtr'\n",
    "twtr = yf.download(ticker, start='2016-01-01', end='2022-06-30')\n",
    "twtr.head()"
   ]
  },
  {
   "cell_type": "code",
   "execution_count": 3,
   "id": "b158124c-a7a4-4295-9fbf-95de4268cfab",
   "metadata": {},
   "outputs": [
    {
     "name": "stdout",
     "output_type": "stream",
     "text": [
      "╒═══════════╤══════════╕\n",
      "│  Company  │  CAGR %  │\n",
      "╞═══════════╪══════════╡\n",
      "│  Twitter  │   7.86   │\n",
      "╘═══════════╧══════════╛\n"
     ]
    }
   ],
   "source": [
    "\n",
    "# Calculate the daily returns in a new column\n",
    "def daily_returns(df:pd.DataFrame):\n",
    "    df['daily_returns'] = df['Adj Close'].pct_change()\n",
    "    return df\n",
    "\n",
    "# Calculate the cumulative returns in a new column\n",
    "def cumulative_returns(df:pd.DataFrame):\n",
    "    df['cumulative_returns'] = (1 + df['daily_returns']).cumprod()\n",
    "    return df\n",
    "    \n",
    "# Calculate the CAGR assuming 252 trading days\n",
    "def CAGR(df:pd.DataFrame):\n",
    "    trading_days = 252\n",
    "    n = len(df)/ trading_days\n",
    "    cagr = (df['cumulative_returns'][-1])**(1/n) - 1\n",
    "    return cagr\n",
    "\n",
    "# Chain the previous functions with pipe\n",
    "cagr_twtr = (twtr\n",
    " .pipe(daily_returns)\n",
    " .pipe(cumulative_returns)\n",
    " .pipe(CAGR)\n",
    ")*100\n",
    "\n",
    "# Print the result in a table\n",
    "print(tabulate([['Twitter',cagr_twtr]],headers=['Company','CAGR %'],tablefmt = 'fancy_grid',stralign = 'center', numalign= 'center',floatfmt=\".2f\"))"
   ]
  },
  {
   "cell_type": "code",
   "execution_count": 4,
   "id": "1c78a653-82aa-4b5a-bd25-09a9dd39d367",
   "metadata": {},
   "outputs": [
    {
     "name": "stdout",
     "output_type": "stream",
     "text": [
      "╒═══════════╤════════════════╕\n",
      "│  Company  │  Volatility %  │\n",
      "╞═══════════╪════════════════╡\n",
      "│  Twitter  │     52.87      │\n",
      "╘═══════════╧════════════════╛\n"
     ]
    }
   ],
   "source": [
    "# Calculate the volatility by multiplying the standard deviation of daily returns by the root square of 252\n",
    "def volatility(df:pd.DataFrame):\n",
    "    trading_days = 252\n",
    "    vol = df['daily_returns'].std() * np.sqrt(trading_days)\n",
    "    return vol\n",
    "\n",
    "# Chaining the previous functions with pipe\n",
    "vol_twtr = (twtr\n",
    " .pipe(daily_returns)\n",
    " .pipe(volatility)\n",
    ")*100\n",
    "\n",
    "# Print the result in a table\n",
    "print(tabulate([['Twitter',vol_twtr]],headers=['Company','Volatility %'],tablefmt = 'fancy_grid',stralign = 'center', numalign= 'center',floatfmt=\".2f\"))"
   ]
  },
  {
   "cell_type": "code",
   "execution_count": 5,
   "id": "ff74972d-718b-423c-8cde-59956cbf0ce4",
   "metadata": {},
   "outputs": [
    {
     "name": "stdout",
     "output_type": "stream",
     "text": [
      "╒═══════════╤════════════════╕\n",
      "│  Company  │  Sharpe Ratio  │\n",
      "╞═══════════╪════════════════╡\n",
      "│  Twitter  │      0.09      │\n",
      "╘═══════════╧════════════════╛\n"
     ]
    }
   ],
   "source": [
    "# Apply the Sharpe ratio formula\n",
    "def sharpe_ratio(df:pd.DataFrame,rf):\n",
    "    sharpe = (CAGR(df) - rf)/ volatility(df)\n",
    "    return sharpe\n",
    "\n",
    "# Chaining previous functions with pipe\n",
    "sharpe_twtr = (twtr\n",
    " .pipe(daily_returns)\n",
    " .pipe(cumulative_returns)\n",
    " .pipe(sharpe_ratio,0.03)\n",
    ")\n",
    "\n",
    "# Print the result in a table\n",
    "print(tabulate([['Twitter',sharpe_twtr]],headers=['Company','Sharpe Ratio'],tablefmt = 'fancy_grid',stralign = 'center', numalign= 'center',floatfmt=\".2f\"))\n",
    "\n"
   ]
  },
  {
   "cell_type": "code",
   "execution_count": 6,
   "id": "7f3e799b-5124-4c2e-8ea3-496dc9c1df4f",
   "metadata": {},
   "outputs": [
    {
     "name": "stdout",
     "output_type": "stream",
     "text": [
      "[*********************100%***********************]  1 of 1 completed\n"
     ]
    },
    {
     "data": {
      "text/html": [
       "<div>\n",
       "<style scoped>\n",
       "    .dataframe tbody tr th:only-of-type {\n",
       "        vertical-align: middle;\n",
       "    }\n",
       "\n",
       "    .dataframe tbody tr th {\n",
       "        vertical-align: top;\n",
       "    }\n",
       "\n",
       "    .dataframe thead th {\n",
       "        text-align: right;\n",
       "    }\n",
       "</style>\n",
       "<table border=\"1\" class=\"dataframe\">\n",
       "  <thead>\n",
       "    <tr style=\"text-align: right;\">\n",
       "      <th></th>\n",
       "      <th>Open</th>\n",
       "      <th>High</th>\n",
       "      <th>Low</th>\n",
       "      <th>Close</th>\n",
       "      <th>Adj Close</th>\n",
       "      <th>Volume</th>\n",
       "    </tr>\n",
       "    <tr>\n",
       "      <th>Date</th>\n",
       "      <th></th>\n",
       "      <th></th>\n",
       "      <th></th>\n",
       "      <th></th>\n",
       "      <th></th>\n",
       "      <th></th>\n",
       "    </tr>\n",
       "  </thead>\n",
       "  <tbody>\n",
       "    <tr>\n",
       "      <th>2015-12-31</th>\n",
       "      <td>106.000000</td>\n",
       "      <td>106.169998</td>\n",
       "      <td>104.620003</td>\n",
       "      <td>104.660004</td>\n",
       "      <td>104.660004</td>\n",
       "      <td>18391100</td>\n",
       "    </tr>\n",
       "    <tr>\n",
       "      <th>2016-01-04</th>\n",
       "      <td>101.949997</td>\n",
       "      <td>102.239998</td>\n",
       "      <td>99.750000</td>\n",
       "      <td>102.220001</td>\n",
       "      <td>102.220001</td>\n",
       "      <td>37912400</td>\n",
       "    </tr>\n",
       "    <tr>\n",
       "      <th>2016-01-05</th>\n",
       "      <td>102.889999</td>\n",
       "      <td>103.709999</td>\n",
       "      <td>101.669998</td>\n",
       "      <td>102.730003</td>\n",
       "      <td>102.730003</td>\n",
       "      <td>23258200</td>\n",
       "    </tr>\n",
       "    <tr>\n",
       "      <th>2016-01-06</th>\n",
       "      <td>101.129997</td>\n",
       "      <td>103.769997</td>\n",
       "      <td>100.900002</td>\n",
       "      <td>102.970001</td>\n",
       "      <td>102.970001</td>\n",
       "      <td>25096200</td>\n",
       "    </tr>\n",
       "    <tr>\n",
       "      <th>2016-01-07</th>\n",
       "      <td>100.500000</td>\n",
       "      <td>101.430000</td>\n",
       "      <td>97.300003</td>\n",
       "      <td>97.919998</td>\n",
       "      <td>97.919998</td>\n",
       "      <td>45172900</td>\n",
       "    </tr>\n",
       "  </tbody>\n",
       "</table>\n",
       "</div>"
      ],
      "text/plain": [
       "                  Open        High         Low       Close   Adj Close  \\\n",
       "Date                                                                     \n",
       "2015-12-31  106.000000  106.169998  104.620003  104.660004  104.660004   \n",
       "2016-01-04  101.949997  102.239998   99.750000  102.220001  102.220001   \n",
       "2016-01-05  102.889999  103.709999  101.669998  102.730003  102.730003   \n",
       "2016-01-06  101.129997  103.769997  100.900002  102.970001  102.970001   \n",
       "2016-01-07  100.500000  101.430000   97.300003   97.919998   97.919998   \n",
       "\n",
       "              Volume  \n",
       "Date                  \n",
       "2015-12-31  18391100  \n",
       "2016-01-04  37912400  \n",
       "2016-01-05  23258200  \n",
       "2016-01-06  25096200  \n",
       "2016-01-07  45172900  "
      ]
     },
     "execution_count": 6,
     "metadata": {},
     "output_type": "execute_result"
    }
   ],
   "source": [
    "ticker2 = 'meta'\n",
    "meta = yf.download(ticker2, start='2016-01-01', end='2022-06-30')\n",
    "meta.head()"
   ]
  },
  {
   "cell_type": "code",
   "execution_count": 7,
   "id": "2f9ea18d-d6e2-416d-b6ea-17e2338e7238",
   "metadata": {},
   "outputs": [
    {
     "name": "stdout",
     "output_type": "stream",
     "text": [
      "╒═══════════╤════════════════╕\n",
      "│  Company  │  Sharpe Ratio  │\n",
      "╞═══════════╪════════════════╡\n",
      "│   Meta    │      0.11      │\n",
      "╘═══════════╧════════════════╛\n"
     ]
    }
   ],
   "source": [
    "# Apply the Sharpe ratio formula\n",
    "def sharpe_ratio(df:pd.DataFrame,rf):\n",
    "    sharpe = (CAGR(df) - rf)/ volatility(df)\n",
    "    return sharpe\n",
    "\n",
    "# Chaining previous functions with pipe\n",
    "sharpe_meta = (meta\n",
    " .pipe(daily_returns)\n",
    " .pipe(cumulative_returns)\n",
    " .pipe(sharpe_ratio,0.03)\n",
    ")\n",
    "\n",
    "# Print the result in a table\n",
    "print(tabulate([['Meta',sharpe_meta]],headers=['Company','Sharpe Ratio'],tablefmt = 'fancy_grid',stralign = 'center', numalign= 'center',floatfmt=\".2f\"))\n",
    "\n"
   ]
  },
  {
   "cell_type": "code",
   "execution_count": 8,
   "id": "e86c86af-5ef7-45a5-ac75-8f70d06d66a1",
   "metadata": {},
   "outputs": [
    {
     "name": "stdout",
     "output_type": "stream",
     "text": [
      "[*********************100%***********************]  1 of 1 completed\n"
     ]
    },
    {
     "data": {
      "text/html": [
       "<div>\n",
       "<style scoped>\n",
       "    .dataframe tbody tr th:only-of-type {\n",
       "        vertical-align: middle;\n",
       "    }\n",
       "\n",
       "    .dataframe tbody tr th {\n",
       "        vertical-align: top;\n",
       "    }\n",
       "\n",
       "    .dataframe thead th {\n",
       "        text-align: right;\n",
       "    }\n",
       "</style>\n",
       "<table border=\"1\" class=\"dataframe\">\n",
       "  <thead>\n",
       "    <tr style=\"text-align: right;\">\n",
       "      <th></th>\n",
       "      <th>Open</th>\n",
       "      <th>High</th>\n",
       "      <th>Low</th>\n",
       "      <th>Close</th>\n",
       "      <th>Adj Close</th>\n",
       "      <th>Volume</th>\n",
       "    </tr>\n",
       "    <tr>\n",
       "      <th>Date</th>\n",
       "      <th></th>\n",
       "      <th></th>\n",
       "      <th></th>\n",
       "      <th></th>\n",
       "      <th></th>\n",
       "      <th></th>\n",
       "    </tr>\n",
       "  </thead>\n",
       "  <tbody>\n",
       "    <tr>\n",
       "      <th>2017-03-02</th>\n",
       "      <td>24.000000</td>\n",
       "      <td>26.049999</td>\n",
       "      <td>23.500000</td>\n",
       "      <td>24.480000</td>\n",
       "      <td>24.480000</td>\n",
       "      <td>217048900</td>\n",
       "    </tr>\n",
       "    <tr>\n",
       "      <th>2017-03-03</th>\n",
       "      <td>26.389999</td>\n",
       "      <td>29.440001</td>\n",
       "      <td>26.059999</td>\n",
       "      <td>27.090000</td>\n",
       "      <td>27.090000</td>\n",
       "      <td>148166400</td>\n",
       "    </tr>\n",
       "    <tr>\n",
       "      <th>2017-03-06</th>\n",
       "      <td>28.170000</td>\n",
       "      <td>28.250000</td>\n",
       "      <td>23.770000</td>\n",
       "      <td>23.770000</td>\n",
       "      <td>23.770000</td>\n",
       "      <td>72903000</td>\n",
       "    </tr>\n",
       "    <tr>\n",
       "      <th>2017-03-07</th>\n",
       "      <td>22.209999</td>\n",
       "      <td>22.500000</td>\n",
       "      <td>20.639999</td>\n",
       "      <td>21.440001</td>\n",
       "      <td>21.440001</td>\n",
       "      <td>71857800</td>\n",
       "    </tr>\n",
       "    <tr>\n",
       "      <th>2017-03-08</th>\n",
       "      <td>22.030001</td>\n",
       "      <td>23.430000</td>\n",
       "      <td>21.309999</td>\n",
       "      <td>22.809999</td>\n",
       "      <td>22.809999</td>\n",
       "      <td>49819100</td>\n",
       "    </tr>\n",
       "  </tbody>\n",
       "</table>\n",
       "</div>"
      ],
      "text/plain": [
       "                 Open       High        Low      Close  Adj Close     Volume\n",
       "Date                                                                        \n",
       "2017-03-02  24.000000  26.049999  23.500000  24.480000  24.480000  217048900\n",
       "2017-03-03  26.389999  29.440001  26.059999  27.090000  27.090000  148166400\n",
       "2017-03-06  28.170000  28.250000  23.770000  23.770000  23.770000   72903000\n",
       "2017-03-07  22.209999  22.500000  20.639999  21.440001  21.440001   71857800\n",
       "2017-03-08  22.030001  23.430000  21.309999  22.809999  22.809999   49819100"
      ]
     },
     "execution_count": 8,
     "metadata": {},
     "output_type": "execute_result"
    }
   ],
   "source": [
    "ticker3 = 'snap'\n",
    "snap = yf.download(ticker3, start='2016-01-01', end='2022-06-30')\n",
    "snap.head()"
   ]
  },
  {
   "cell_type": "code",
   "execution_count": 9,
   "id": "f1d8937a-a1e3-4636-848d-e789a13179de",
   "metadata": {},
   "outputs": [
    {
     "name": "stdout",
     "output_type": "stream",
     "text": [
      "╒═══════════╤════════════════╕\n",
      "│  Company  │  Sharpe Ratio  │\n",
      "╞═══════════╪════════════════╡\n",
      "│   Snap    │     -0.17      │\n",
      "╘═══════════╧════════════════╛\n"
     ]
    }
   ],
   "source": [
    "# Apply the Sharpe ratio formula\n",
    "def sharpe_ratio(df:pd.DataFrame,rf):\n",
    "    sharpe = (CAGR(df) - rf)/ volatility(df)\n",
    "    return sharpe\n",
    "\n",
    "# Chaining previous functions with pipe\n",
    "sharpe_snap = (snap\n",
    " .pipe(daily_returns)\n",
    " .pipe(cumulative_returns)\n",
    " .pipe(sharpe_ratio,0.03)\n",
    ")\n",
    "\n",
    "# Print the result in a table\n",
    "print(tabulate([['Snap',sharpe_snap]],headers=['Company','Sharpe Ratio'],tablefmt = 'fancy_grid',stralign = 'center', numalign= 'center',floatfmt=\".2f\"))\n",
    "\n"
   ]
  },
  {
   "cell_type": "code",
   "execution_count": 10,
   "id": "1f87e04e-2214-48df-a5b9-c29b7972c093",
   "metadata": {},
   "outputs": [
    {
     "name": "stdout",
     "output_type": "stream",
     "text": [
      "╒═══════════╤════════════════╕\n",
      "│  Company  │  Sharpe Ratio  │\n",
      "╞═══════════╪════════════════╡\n",
      "│  Twitter  │      0.09      │\n",
      "├───────────┼────────────────┤\n",
      "│   Snap    │     -0.17      │\n",
      "├───────────┼────────────────┤\n",
      "│   Meta    │      0.11      │\n",
      "╘═══════════╧════════════════╛\n"
     ]
    }
   ],
   "source": [
    "# Print the result in a table\n",
    "print(tabulate([['Twitter',sharpe_twtr],['Snap',sharpe_snap],['Meta',sharpe_meta]],headers=['Company','Sharpe Ratio'],tablefmt = 'fancy_grid',stralign = 'center', numalign= 'center',floatfmt=\".2f\"))\n"
   ]
  },
  {
   "cell_type": "code",
   "execution_count": null,
   "id": "5dc62d51-31df-4ea7-b815-7672bf5cc450",
   "metadata": {},
   "outputs": [],
   "source": []
  }
 ],
 "metadata": {
  "kernelspec": {
   "display_name": "Python [conda env:adsml] *",
   "language": "python",
   "name": "conda-env-adsml-py"
  },
  "language_info": {
   "codemirror_mode": {
    "name": "ipython",
    "version": 3
   },
   "file_extension": ".py",
   "mimetype": "text/x-python",
   "name": "python",
   "nbconvert_exporter": "python",
   "pygments_lexer": "ipython3",
   "version": "3.9.7"
  }
 },
 "nbformat": 4,
 "nbformat_minor": 5
}
